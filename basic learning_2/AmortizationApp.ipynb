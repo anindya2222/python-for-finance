{
 "cells": [
  {
   "cell_type": "markdown",
   "metadata": {},
   "source": [
    "# Amortization Application"
   ]
  },
  {
   "cell_type": "code",
   "execution_count": 1,
   "metadata": {},
   "outputs": [],
   "source": [
    "import numpy as np\n",
    "import pandas as pd\n",
    "import matplotlib.pyplot as plt\n",
    "%matplotlib inline"
   ]
  },
  {
   "cell_type": "code",
   "execution_count": 2,
   "metadata": {},
   "outputs": [],
   "source": [
    "pv = 360000\n",
    "rate = 0.05875\n",
    "term = 30\n",
    "pmt = np.pmt(rate / 12, term * 12, -pv)\n",
    "extra_principal = 100"
   ]
  },
  {
   "cell_type": "code",
   "execution_count": 4,
   "metadata": {},
   "outputs": [],
   "source": [
    "def amortize(pv,rate,term,extra_principal=0):\n",
    "    pmt = np.pmt(rate / 12, term * 12, -pv)\n",
    "    amort_table = pd.DataFrame({'Balance': np.zeros(term * 12 + 1), \n",
    "                            'Interest': np.zeros(term * 12 + 1),\n",
    "                            'Principal': np.zeros(term * 12 + 1),\n",
    "                            'Cum_Int' : np.zeros(term * 12 + 1)})\n",
    "    amort_table['Balance'][0] = pv\n",
    "    amort_table['Interest'][0] = amort_table['Balance'][0] * rate / 12\n",
    "    amort_table['Principal'][0] = (pmt + extra_principal) - amort_table['Interest'][0]\n",
    "    amort_table['Cum_Int'] = amort_table['Interest'].cumsum()\n",
    "    for payment in range(1,360):\n",
    "            actual_pmt  = pmt + extra_principal\n",
    "            amort_table['Balance'][payment] = max(0,\n",
    "                amort_table['Balance'][payment - 1] - amort_table['Principal'][payment - 1])\n",
    "            amort_table['Interest'][payment] = rate / 12 * amort_table['Balance'][payment]\n",
    "            amort_table['Principal'][payment] = actual_pmt - amort_table['Interest'][payment]\n",
    "            if amort_table['Balance'][payment] < actual_pmt :\n",
    "                amort_table['Principal'][payment] = amort_table['Balance'][payment]\n",
    "                break\n",
    "    amort_table = amort_table[amort_table['Balance'] != 0]\n",
    "    amort_table['Cum_Int'] = amort_table['Interest'].cumsum()\n",
    "    amort_table = round(amort_table,2)\n",
    "    summary = pd.Series({\n",
    "        'Interest': rate,\n",
    "        'Payment' : round(pmt,2),\n",
    "        'Extra Principal' : extra_principal,\n",
    "        'Total interest' : amort_table['Cum_Int'].max(),\n",
    "        'Periods' : amort_table.index[-1] + 1\n",
    "    })    \n",
    "    \n",
    "    return amort_table, summary"
   ]
  },
  {
   "cell_type": "code",
   "execution_count": 387,
   "metadata": {},
   "outputs": [],
   "source": []
  },
  {
   "cell_type": "code",
   "execution_count": 5,
   "metadata": {},
   "outputs": [],
   "source": [
    "amort_table, summary = amortize(pv,rate,term)"
   ]
  },
  {
   "cell_type": "code",
   "execution_count": 6,
   "metadata": {},
   "outputs": [
    {
     "data": {
      "text/html": [
       "<div>\n",
       "<style scoped>\n",
       "    .dataframe tbody tr th:only-of-type {\n",
       "        vertical-align: middle;\n",
       "    }\n",
       "\n",
       "    .dataframe tbody tr th {\n",
       "        vertical-align: top;\n",
       "    }\n",
       "\n",
       "    .dataframe thead th {\n",
       "        text-align: right;\n",
       "    }\n",
       "</style>\n",
       "<table border=\"1\" class=\"dataframe\">\n",
       "  <thead>\n",
       "    <tr style=\"text-align: right;\">\n",
       "      <th></th>\n",
       "      <th>Balance</th>\n",
       "      <th>Interest</th>\n",
       "      <th>Principal</th>\n",
       "      <th>Cum_Int</th>\n",
       "    </tr>\n",
       "  </thead>\n",
       "  <tbody>\n",
       "    <tr>\n",
       "      <th>355</th>\n",
       "      <td>10493.06</td>\n",
       "      <td>51.37</td>\n",
       "      <td>2078.16</td>\n",
       "      <td>406529.69</td>\n",
       "    </tr>\n",
       "    <tr>\n",
       "      <th>356</th>\n",
       "      <td>8414.90</td>\n",
       "      <td>41.20</td>\n",
       "      <td>2088.34</td>\n",
       "      <td>406570.89</td>\n",
       "    </tr>\n",
       "    <tr>\n",
       "      <th>357</th>\n",
       "      <td>6326.56</td>\n",
       "      <td>30.97</td>\n",
       "      <td>2098.56</td>\n",
       "      <td>406601.87</td>\n",
       "    </tr>\n",
       "    <tr>\n",
       "      <th>358</th>\n",
       "      <td>4228.00</td>\n",
       "      <td>20.70</td>\n",
       "      <td>2108.84</td>\n",
       "      <td>406622.57</td>\n",
       "    </tr>\n",
       "    <tr>\n",
       "      <th>359</th>\n",
       "      <td>2119.16</td>\n",
       "      <td>10.38</td>\n",
       "      <td>2119.16</td>\n",
       "      <td>406632.94</td>\n",
       "    </tr>\n",
       "  </tbody>\n",
       "</table>\n",
       "</div>"
      ],
      "text/plain": [
       "      Balance  Interest  Principal    Cum_Int\n",
       "355  10493.06     51.37    2078.16  406529.69\n",
       "356   8414.90     41.20    2088.34  406570.89\n",
       "357   6326.56     30.97    2098.56  406601.87\n",
       "358   4228.00     20.70    2108.84  406622.57\n",
       "359   2119.16     10.38    2119.16  406632.94"
      ]
     },
     "execution_count": 6,
     "metadata": {},
     "output_type": "execute_result"
    }
   ],
   "source": [
    "amort_table.tail()"
   ]
  },
  {
   "cell_type": "code",
   "execution_count": 7,
   "metadata": {},
   "outputs": [
    {
     "data": {
      "text/plain": [
       "Interest                0.05875\n",
       "Payment              2129.54000\n",
       "Extra Principal         0.00000\n",
       "Total interest     406632.94000\n",
       "Periods               360.00000\n",
       "dtype: float64"
      ]
     },
     "execution_count": 7,
     "metadata": {},
     "output_type": "execute_result"
    }
   ],
   "source": [
    "summary"
   ]
  },
  {
   "cell_type": "code",
   "execution_count": 10,
   "metadata": {},
   "outputs": [],
   "source": [
    "scenario_1, summary_1 = amortize(pv,rate,term,100)\n",
    "scenario_2, summary_2 = amortize(pv,rate,term,200)\n",
    "scenario_3, summary_3 = amortize(pv,.0475,15)\n"
   ]
  },
  {
   "cell_type": "code",
   "execution_count": 11,
   "metadata": {},
   "outputs": [
    {
     "data": {
      "text/html": [
       "<div>\n",
       "<style scoped>\n",
       "    .dataframe tbody tr th:only-of-type {\n",
       "        vertical-align: middle;\n",
       "    }\n",
       "\n",
       "    .dataframe tbody tr th {\n",
       "        vertical-align: top;\n",
       "    }\n",
       "\n",
       "    .dataframe thead th {\n",
       "        text-align: right;\n",
       "    }\n",
       "</style>\n",
       "<table border=\"1\" class=\"dataframe\">\n",
       "  <thead>\n",
       "    <tr style=\"text-align: right;\">\n",
       "      <th></th>\n",
       "      <th>Interest</th>\n",
       "      <th>Payment</th>\n",
       "      <th>Extra Principal</th>\n",
       "      <th>Total interest</th>\n",
       "      <th>Periods</th>\n",
       "    </tr>\n",
       "  </thead>\n",
       "  <tbody>\n",
       "    <tr>\n",
       "      <th>0</th>\n",
       "      <td>0.05875</td>\n",
       "      <td>2129.54</td>\n",
       "      <td>100.0</td>\n",
       "      <td>353588.06</td>\n",
       "      <td>321.0</td>\n",
       "    </tr>\n",
       "    <tr>\n",
       "      <th>1</th>\n",
       "      <td>0.05875</td>\n",
       "      <td>2129.54</td>\n",
       "      <td>200.0</td>\n",
       "      <td>313980.32</td>\n",
       "      <td>290.0</td>\n",
       "    </tr>\n",
       "    <tr>\n",
       "      <th>2</th>\n",
       "      <td>0.04750</td>\n",
       "      <td>2800.19</td>\n",
       "      <td>0.0</td>\n",
       "      <td>144035.08</td>\n",
       "      <td>180.0</td>\n",
       "    </tr>\n",
       "  </tbody>\n",
       "</table>\n",
       "</div>"
      ],
      "text/plain": [
       "   Interest  Payment  Extra Principal  Total interest  Periods\n",
       "0   0.05875  2129.54            100.0       353588.06    321.0\n",
       "1   0.05875  2129.54            200.0       313980.32    290.0\n",
       "2   0.04750  2800.19              0.0       144035.08    180.0"
      ]
     },
     "execution_count": 11,
     "metadata": {},
     "output_type": "execute_result"
    }
   ],
   "source": [
    "pd.DataFrame([summary_1,summary_2,summary_3])"
   ]
  },
  {
   "cell_type": "code",
   "execution_count": null,
   "metadata": {},
   "outputs": [],
   "source": []
  }
 ],
 "metadata": {
  "kernelspec": {
   "display_name": "Python 3 (ipykernel)",
   "language": "python",
   "name": "python3"
  },
  "language_info": {
   "codemirror_mode": {
    "name": "ipython",
    "version": 3
   },
   "file_extension": ".py",
   "mimetype": "text/x-python",
   "name": "python",
   "nbconvert_exporter": "python",
   "pygments_lexer": "ipython3",
   "version": "3.9.7"
  }
 },
 "nbformat": 4,
 "nbformat_minor": 2
}
