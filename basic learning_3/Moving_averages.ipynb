{
 "cells": [
  {
   "cell_type": "markdown",
   "metadata": {},
   "source": [
    "# Forecasting with Moving Averages"
   ]
  },
  {
   "cell_type": "code",
   "execution_count": 1,
   "metadata": {},
   "outputs": [],
   "source": [
    "import numpy as np\n",
    "import pandas as pd\n",
    "import pandas_datareader as pdr\n",
    "import matplotlib.pyplot as plt\n",
    "%matplotlib inline"
   ]
  },
  {
   "cell_type": "code",
   "execution_count": 2,
   "metadata": {},
   "outputs": [],
   "source": [
    "gld = pdr.get_data_yahoo('GLD', start='2013-01-01')\n",
    "gld.drop('Adj Close', axis=1)\n",
    "gld = round(gld,2)"
   ]
  },
  {
   "cell_type": "code",
   "execution_count": 5,
   "metadata": {},
   "outputs": [
    {
     "data": {
      "text/html": [
       "<div>\n",
       "<style scoped>\n",
       "    .dataframe tbody tr th:only-of-type {\n",
       "        vertical-align: middle;\n",
       "    }\n",
       "\n",
       "    .dataframe tbody tr th {\n",
       "        vertical-align: top;\n",
       "    }\n",
       "\n",
       "    .dataframe thead th {\n",
       "        text-align: right;\n",
       "    }\n",
       "</style>\n",
       "<table border=\"1\" class=\"dataframe\">\n",
       "  <thead>\n",
       "    <tr style=\"text-align: right;\">\n",
       "      <th></th>\n",
       "      <th>High</th>\n",
       "      <th>Low</th>\n",
       "      <th>Open</th>\n",
       "      <th>Close</th>\n",
       "      <th>Volume</th>\n",
       "      <th>Adj Close</th>\n",
       "      <th>5-day</th>\n",
       "    </tr>\n",
       "    <tr>\n",
       "      <th>Date</th>\n",
       "      <th></th>\n",
       "      <th></th>\n",
       "      <th></th>\n",
       "      <th></th>\n",
       "      <th></th>\n",
       "      <th></th>\n",
       "      <th></th>\n",
       "    </tr>\n",
       "  </thead>\n",
       "  <tbody>\n",
       "    <tr>\n",
       "      <th>2013-01-02</th>\n",
       "      <td>164.14</td>\n",
       "      <td>163.14</td>\n",
       "      <td>163.49</td>\n",
       "      <td>163.17</td>\n",
       "      <td>10431800</td>\n",
       "      <td>163.17</td>\n",
       "      <td>NaN</td>\n",
       "    </tr>\n",
       "    <tr>\n",
       "      <th>2013-01-03</th>\n",
       "      <td>162.88</td>\n",
       "      <td>160.83</td>\n",
       "      <td>162.48</td>\n",
       "      <td>161.20</td>\n",
       "      <td>16117500</td>\n",
       "      <td>161.20</td>\n",
       "      <td>NaN</td>\n",
       "    </tr>\n",
       "    <tr>\n",
       "      <th>2013-01-04</th>\n",
       "      <td>160.63</td>\n",
       "      <td>158.89</td>\n",
       "      <td>159.52</td>\n",
       "      <td>160.44</td>\n",
       "      <td>19179800</td>\n",
       "      <td>160.44</td>\n",
       "      <td>NaN</td>\n",
       "    </tr>\n",
       "    <tr>\n",
       "      <th>2013-01-07</th>\n",
       "      <td>159.96</td>\n",
       "      <td>159.15</td>\n",
       "      <td>159.36</td>\n",
       "      <td>159.43</td>\n",
       "      <td>9361800</td>\n",
       "      <td>159.43</td>\n",
       "      <td>NaN</td>\n",
       "    </tr>\n",
       "    <tr>\n",
       "      <th>2013-01-08</th>\n",
       "      <td>160.99</td>\n",
       "      <td>160.01</td>\n",
       "      <td>160.46</td>\n",
       "      <td>160.56</td>\n",
       "      <td>7694800</td>\n",
       "      <td>160.56</td>\n",
       "      <td>NaN</td>\n",
       "    </tr>\n",
       "    <tr>\n",
       "      <th>2013-01-09</th>\n",
       "      <td>160.83</td>\n",
       "      <td>159.90</td>\n",
       "      <td>160.77</td>\n",
       "      <td>160.49</td>\n",
       "      <td>8334200</td>\n",
       "      <td>160.49</td>\n",
       "      <td>160.960</td>\n",
       "    </tr>\n",
       "    <tr>\n",
       "      <th>2013-01-10</th>\n",
       "      <td>162.56</td>\n",
       "      <td>161.61</td>\n",
       "      <td>161.61</td>\n",
       "      <td>161.98</td>\n",
       "      <td>11432600</td>\n",
       "      <td>161.98</td>\n",
       "      <td>160.424</td>\n",
       "    </tr>\n",
       "    <tr>\n",
       "      <th>2013-01-11</th>\n",
       "      <td>161.90</td>\n",
       "      <td>160.11</td>\n",
       "      <td>161.86</td>\n",
       "      <td>161.06</td>\n",
       "      <td>13675600</td>\n",
       "      <td>161.06</td>\n",
       "      <td>160.580</td>\n",
       "    </tr>\n",
       "    <tr>\n",
       "      <th>2013-01-14</th>\n",
       "      <td>161.97</td>\n",
       "      <td>161.13</td>\n",
       "      <td>161.88</td>\n",
       "      <td>161.54</td>\n",
       "      <td>7289000</td>\n",
       "      <td>161.54</td>\n",
       "      <td>160.704</td>\n",
       "    </tr>\n",
       "    <tr>\n",
       "      <th>2013-01-15</th>\n",
       "      <td>163.17</td>\n",
       "      <td>162.35</td>\n",
       "      <td>162.80</td>\n",
       "      <td>162.56</td>\n",
       "      <td>10077800</td>\n",
       "      <td>162.56</td>\n",
       "      <td>161.126</td>\n",
       "    </tr>\n",
       "  </tbody>\n",
       "</table>\n",
       "</div>"
      ],
      "text/plain": [
       "              High     Low    Open   Close    Volume  Adj Close    5-day\n",
       "Date                                                                    \n",
       "2013-01-02  164.14  163.14  163.49  163.17  10431800     163.17      NaN\n",
       "2013-01-03  162.88  160.83  162.48  161.20  16117500     161.20      NaN\n",
       "2013-01-04  160.63  158.89  159.52  160.44  19179800     160.44      NaN\n",
       "2013-01-07  159.96  159.15  159.36  159.43   9361800     159.43      NaN\n",
       "2013-01-08  160.99  160.01  160.46  160.56   7694800     160.56      NaN\n",
       "2013-01-09  160.83  159.90  160.77  160.49   8334200     160.49  160.960\n",
       "2013-01-10  162.56  161.61  161.61  161.98  11432600     161.98  160.424\n",
       "2013-01-11  161.90  160.11  161.86  161.06  13675600     161.06  160.580\n",
       "2013-01-14  161.97  161.13  161.88  161.54   7289000     161.54  160.704\n",
       "2013-01-15  163.17  162.35  162.80  162.56  10077800     162.56  161.126"
      ]
     },
     "execution_count": 5,
     "metadata": {},
     "output_type": "execute_result"
    }
   ],
   "source": [
    "gld['5-day'] = gld['Close'].rolling(5).mean().shift()\n",
    "gld.head(10)"
   ]
  },
  {
   "cell_type": "code",
   "execution_count": 7,
   "metadata": {},
   "outputs": [
    {
     "data": {
      "text/plain": [
       "[<matplotlib.lines.Line2D at 0x118031e48>]"
      ]
     },
     "execution_count": 7,
     "metadata": {},
     "output_type": "execute_result"
    },
    {
     "data": {
      "image/png": "[encoded data removed]",
      "text/plain": [
       "<Figure size 432x288 with 1 Axes>"
      ]
     },
     "metadata": {
      "needs_background": "light"
     },
     "output_type": "display_data"
    }
   ],
   "source": [
    "plt.plot(gld['Close'][-120:])\n",
    "plt.plot(gld['5-day'][-120:])"
   ]
  },
  {
   "cell_type": "code",
   "execution_count": 8,
   "metadata": {},
   "outputs": [],
   "source": [
    "# Mean absolute deviation\n",
    "gld['MAD'] = np.abs(gld['Close']-gld['5-day'])"
   ]
  },
  {
   "cell_type": "code",
   "execution_count": 9,
   "metadata": {},
   "outputs": [
    {
     "data": {
      "text/plain": [
       "1.2334691439946852"
      ]
     },
     "execution_count": 9,
     "metadata": {},
     "output_type": "execute_result"
    }
   ],
   "source": [
    "gld['MAD'].mean()"
   ]
  },
  {
   "cell_type": "code",
   "execution_count": 10,
   "metadata": {},
   "outputs": [
    {
     "data": {
      "text/plain": [
       "0.01015011724683513"
      ]
     },
     "execution_count": 10,
     "metadata": {},
     "output_type": "execute_result"
    }
   ],
   "source": [
    "# Mean Percent Error\n",
    "gld['MAPE'] = gld['MAD'] / gld['Close']\n",
    "gld['MAPE'].mean()"
   ]
  },
  {
   "cell_type": "code",
   "execution_count": 12,
   "metadata": {},
   "outputs": [],
   "source": [
    "# Mean Squared Error\n",
    "gld['MSE'] = gld['MAD'] ** 2\n",
    "MSE = gld['MSE'].mean()"
   ]
  },
  {
   "cell_type": "code",
   "execution_count": 15,
   "metadata": {},
   "outputs": [
    {
     "data": {
      "text/plain": [
       "1.7205652525612454"
      ]
     },
     "execution_count": 15,
     "metadata": {},
     "output_type": "execute_result"
    }
   ],
   "source": [
    "RMSE = np.sqrt(MSE)\n",
    "RMSE"
   ]
  },
  {
   "cell_type": "code",
   "execution_count": null,
   "metadata": {},
   "outputs": [],
   "source": []
  },
  {
   "cell_type": "code",
   "execution_count": null,
   "metadata": {},
   "outputs": [],
   "source": []
  },
  {
   "cell_type": "code",
   "execution_count": null,
   "metadata": {},
   "outputs": [],
   "source": []
  },
  {
   "cell_type": "code",
   "execution_count": null,
   "metadata": {
    "collapsed": true
   },
   "outputs": [],
   "source": []
  },
  {
   "cell_type": "code",
   "execution_count": null,
   "metadata": {
    "collapsed": true
   },
   "outputs": [],
   "source": []
  },
  {
   "cell_type": "code",
   "execution_count": null,
   "metadata": {
    "collapsed": true
   },
   "outputs": [],
   "source": []
  },
  {
   "cell_type": "code",
   "execution_count": null,
   "metadata": {
    "collapsed": true
   },
   "outputs": [],
   "source": []
  }
 ],
 "metadata": {
  "kernelspec": {
   "display_name": "Python 3 (ipykernel)",
   "language": "python",
   "name": "python3"
  },
  "language_info": {
   "codemirror_mode": {
    "name": "ipython",
    "version": 3
   },
   "file_extension": ".py",
   "mimetype": "text/x-python",
   "name": "python",
   "nbconvert_exporter": "python",
   "pygments_lexer": "ipython3",
   "version": "3.9.7"
  }
 },
 "nbformat": 4,
 "nbformat_minor": 2
}
