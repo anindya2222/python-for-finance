{
 "cells": [
  {
   "cell_type": "markdown",
   "metadata": {},
   "source": [
    "# Pandas Part I"
   ]
  },
  {
   "cell_type": "code",
   "execution_count": 1,
   "metadata": {},
   "outputs": [],
   "source": [
    "import numpy as np\n",
    "import pandas as pd"
   ]
  },
  {
   "cell_type": "code",
   "execution_count": 2,
   "metadata": {},
   "outputs": [
    {
     "data": {
      "text/plain": [
       "array([[ 0.37982582, -0.35292494, -0.55822739,  1.40268776, -1.36561745,\n",
       "        -0.98826106,  0.49590831,  0.36410575,  1.00637735,  0.42625254],\n",
       "       [ 0.2095485 ,  0.34425262,  0.54021359, -1.14561611,  0.15595483,\n",
       "        -2.20017058, -0.03588873, -1.16932644, -1.35425066, -0.46645458],\n",
       "       [ 0.21834465,  0.57628964,  0.2259405 , -0.01064416, -0.11353138,\n",
       "        -0.4589381 , -0.06695456,  0.34023799, -0.72902171,  0.36711728],\n",
       "       [ 0.57614375, -0.04326061,  1.12786939, -1.38859399,  1.14223527,\n",
       "        -0.23223703,  2.16251522,  0.31137554, -0.22698214, -1.99147167],\n",
       "       [ 0.55670335, -0.08148717, -0.22743183,  0.10902198, -0.13013245,\n",
       "         0.40793512, -0.26063201,  0.51397282, -0.63904739,  1.17489876]])"
      ]
     },
     "execution_count": 2,
     "metadata": {},
     "output_type": "execute_result"
    }
   ],
   "source": [
    "arr = np.random.standard_normal((5,10))\n",
    "arr"
   ]
  },
  {
   "cell_type": "code",
   "execution_count": 3,
   "metadata": {},
   "outputs": [],
   "source": [
    "# creating dataframe from an numpy array\n",
    "df = pd.DataFrame(arr)"
   ]
  },
  {
   "cell_type": "code",
   "execution_count": 6,
   "metadata": {},
   "outputs": [
    {
     "data": {
      "text/html": [
       "<div>\n",
       "<style scoped>\n",
       "    .dataframe tbody tr th:only-of-type {\n",
       "        vertical-align: middle;\n",
       "    }\n",
       "\n",
       "    .dataframe tbody tr th {\n",
       "        vertical-align: top;\n",
       "    }\n",
       "\n",
       "    .dataframe thead th {\n",
       "        text-align: right;\n",
       "    }\n",
       "</style>\n",
       "<table border=\"1\" class=\"dataframe\">\n",
       "  <thead>\n",
       "    <tr style=\"text-align: right;\">\n",
       "      <th></th>\n",
       "      <th>0</th>\n",
       "      <th>1</th>\n",
       "      <th>2</th>\n",
       "      <th>3</th>\n",
       "      <th>4</th>\n",
       "      <th>5</th>\n",
       "      <th>6</th>\n",
       "      <th>7</th>\n",
       "      <th>8</th>\n",
       "      <th>9</th>\n",
       "    </tr>\n",
       "  </thead>\n",
       "  <tbody>\n",
       "    <tr>\n",
       "      <th>2</th>\n",
       "      <td>0.218345</td>\n",
       "      <td>0.576290</td>\n",
       "      <td>0.225941</td>\n",
       "      <td>-0.010644</td>\n",
       "      <td>-0.113531</td>\n",
       "      <td>-0.458938</td>\n",
       "      <td>-0.066955</td>\n",
       "      <td>0.340238</td>\n",
       "      <td>-0.729022</td>\n",
       "      <td>0.367117</td>\n",
       "    </tr>\n",
       "    <tr>\n",
       "      <th>3</th>\n",
       "      <td>0.576144</td>\n",
       "      <td>-0.043261</td>\n",
       "      <td>1.127869</td>\n",
       "      <td>-1.388594</td>\n",
       "      <td>1.142235</td>\n",
       "      <td>-0.232237</td>\n",
       "      <td>2.162515</td>\n",
       "      <td>0.311376</td>\n",
       "      <td>-0.226982</td>\n",
       "      <td>-1.991472</td>\n",
       "    </tr>\n",
       "    <tr>\n",
       "      <th>4</th>\n",
       "      <td>0.556703</td>\n",
       "      <td>-0.081487</td>\n",
       "      <td>-0.227432</td>\n",
       "      <td>0.109022</td>\n",
       "      <td>-0.130132</td>\n",
       "      <td>0.407935</td>\n",
       "      <td>-0.260632</td>\n",
       "      <td>0.513973</td>\n",
       "      <td>-0.639047</td>\n",
       "      <td>1.174899</td>\n",
       "    </tr>\n",
       "  </tbody>\n",
       "</table>\n",
       "</div>"
      ],
      "text/plain": [
       "          0         1         2         3         4         5         6  \\\n",
       "2  0.218345  0.576290  0.225941 -0.010644 -0.113531 -0.458938 -0.066955   \n",
       "3  0.576144 -0.043261  1.127869 -1.388594  1.142235 -0.232237  2.162515   \n",
       "4  0.556703 -0.081487 -0.227432  0.109022 -0.130132  0.407935 -0.260632   \n",
       "\n",
       "          7         8         9  \n",
       "2  0.340238 -0.729022  0.367117  \n",
       "3  0.311376 -0.226982 -1.991472  \n",
       "4  0.513973 -0.639047  1.174899  "
      ]
     },
     "execution_count": 6,
     "metadata": {},
     "output_type": "execute_result"
    }
   ],
   "source": [
    "df.tail(3)"
   ]
  },
  {
   "cell_type": "code",
   "execution_count": 8,
   "metadata": {},
   "outputs": [
    {
     "data": {
      "text/html": [
       "<div>\n",
       "<style scoped>\n",
       "    .dataframe tbody tr th:only-of-type {\n",
       "        vertical-align: middle;\n",
       "    }\n",
       "\n",
       "    .dataframe tbody tr th {\n",
       "        vertical-align: top;\n",
       "    }\n",
       "\n",
       "    .dataframe thead th {\n",
       "        text-align: right;\n",
       "    }\n",
       "</style>\n",
       "<table border=\"1\" class=\"dataframe\">\n",
       "  <thead>\n",
       "    <tr style=\"text-align: right;\">\n",
       "      <th></th>\n",
       "      <th>A</th>\n",
       "      <th>B</th>\n",
       "      <th>C</th>\n",
       "      <th>D</th>\n",
       "      <th>E</th>\n",
       "      <th>F</th>\n",
       "      <th>G</th>\n",
       "      <th>H</th>\n",
       "      <th>I</th>\n",
       "      <th>J</th>\n",
       "    </tr>\n",
       "  </thead>\n",
       "  <tbody>\n",
       "    <tr>\n",
       "      <th>0</th>\n",
       "      <td>0.379826</td>\n",
       "      <td>-0.352925</td>\n",
       "      <td>-0.558227</td>\n",
       "      <td>1.402688</td>\n",
       "      <td>-1.365617</td>\n",
       "      <td>-0.988261</td>\n",
       "      <td>0.495908</td>\n",
       "      <td>0.364106</td>\n",
       "      <td>1.006377</td>\n",
       "      <td>0.426253</td>\n",
       "    </tr>\n",
       "    <tr>\n",
       "      <th>1</th>\n",
       "      <td>0.209549</td>\n",
       "      <td>0.344253</td>\n",
       "      <td>0.540214</td>\n",
       "      <td>-1.145616</td>\n",
       "      <td>0.155955</td>\n",
       "      <td>-2.200171</td>\n",
       "      <td>-0.035889</td>\n",
       "      <td>-1.169326</td>\n",
       "      <td>-1.354251</td>\n",
       "      <td>-0.466455</td>\n",
       "    </tr>\n",
       "    <tr>\n",
       "      <th>2</th>\n",
       "      <td>0.218345</td>\n",
       "      <td>0.576290</td>\n",
       "      <td>0.225941</td>\n",
       "      <td>-0.010644</td>\n",
       "      <td>-0.113531</td>\n",
       "      <td>-0.458938</td>\n",
       "      <td>-0.066955</td>\n",
       "      <td>0.340238</td>\n",
       "      <td>-0.729022</td>\n",
       "      <td>0.367117</td>\n",
       "    </tr>\n",
       "    <tr>\n",
       "      <th>3</th>\n",
       "      <td>0.576144</td>\n",
       "      <td>-0.043261</td>\n",
       "      <td>1.127869</td>\n",
       "      <td>-1.388594</td>\n",
       "      <td>1.142235</td>\n",
       "      <td>-0.232237</td>\n",
       "      <td>2.162515</td>\n",
       "      <td>0.311376</td>\n",
       "      <td>-0.226982</td>\n",
       "      <td>-1.991472</td>\n",
       "    </tr>\n",
       "    <tr>\n",
       "      <th>4</th>\n",
       "      <td>0.556703</td>\n",
       "      <td>-0.081487</td>\n",
       "      <td>-0.227432</td>\n",
       "      <td>0.109022</td>\n",
       "      <td>-0.130132</td>\n",
       "      <td>0.407935</td>\n",
       "      <td>-0.260632</td>\n",
       "      <td>0.513973</td>\n",
       "      <td>-0.639047</td>\n",
       "      <td>1.174899</td>\n",
       "    </tr>\n",
       "  </tbody>\n",
       "</table>\n",
       "</div>"
      ],
      "text/plain": [
       "          A         B         C         D         E         F         G  \\\n",
       "0  0.379826 -0.352925 -0.558227  1.402688 -1.365617 -0.988261  0.495908   \n",
       "1  0.209549  0.344253  0.540214 -1.145616  0.155955 -2.200171 -0.035889   \n",
       "2  0.218345  0.576290  0.225941 -0.010644 -0.113531 -0.458938 -0.066955   \n",
       "3  0.576144 -0.043261  1.127869 -1.388594  1.142235 -0.232237  2.162515   \n",
       "4  0.556703 -0.081487 -0.227432  0.109022 -0.130132  0.407935 -0.260632   \n",
       "\n",
       "          H         I         J  \n",
       "0  0.364106  1.006377  0.426253  \n",
       "1 -1.169326 -1.354251 -0.466455  \n",
       "2  0.340238 -0.729022  0.367117  \n",
       "3  0.311376 -0.226982 -1.991472  \n",
       "4  0.513973 -0.639047  1.174899  "
      ]
     },
     "execution_count": 8,
     "metadata": {},
     "output_type": "execute_result"
    }
   ],
   "source": [
    "cols = \"A B C D E F G H I J\".split()\n",
    "cols\n",
    "df.columns = cols\n",
    "df"
   ]
  },
  {
   "cell_type": "code",
   "execution_count": 9,
   "metadata": {},
   "outputs": [
    {
     "data": {
      "text/plain": [
       "Index(['A', 'B', 'Z', 'D', 'E', 'F', 'G', 'H', 'I', 'J'], dtype='object')"
      ]
     },
     "execution_count": 9,
     "metadata": {},
     "output_type": "execute_result"
    }
   ],
   "source": [
    "# renaming columns\n",
    "df.rename(columns={'C': 'Z'}, inplace=True)\n",
    "df.columns"
   ]
  },
  {
   "cell_type": "code",
   "execution_count": 10,
   "metadata": {},
   "outputs": [
    {
     "name": "stdout",
     "output_type": "stream",
     "text": [
      "<class 'pandas.core.frame.DataFrame'>\n",
      "RangeIndex: 5 entries, 0 to 4\n",
      "Data columns (total 10 columns):\n",
      "A    5 non-null float64\n",
      "B    5 non-null float64\n",
      "Z    5 non-null float64\n",
      "D    5 non-null float64\n",
      "E    5 non-null float64\n",
      "F    5 non-null float64\n",
      "G    5 non-null float64\n",
      "H    5 non-null float64\n",
      "I    5 non-null float64\n",
      "J    5 non-null float64\n",
      "dtypes: float64(10)\n",
      "memory usage: 480.0 bytes\n"
     ]
    }
   ],
   "source": [
    "df.info()"
   ]
  },
  {
   "cell_type": "code",
   "execution_count": 12,
   "metadata": {},
   "outputs": [
    {
     "data": {
      "text/plain": [
       "0    0.379826\n",
       "1    0.209549\n",
       "2    0.218345\n",
       "3    0.576144\n",
       "4    0.556703\n",
       "Name: A, dtype: float64"
      ]
     },
     "execution_count": 12,
     "metadata": {},
     "output_type": "execute_result"
    }
   ],
   "source": [
    "df['A']"
   ]
  },
  {
   "cell_type": "code",
   "execution_count": 13,
   "metadata": {},
   "outputs": [
    {
     "data": {
      "text/plain": [
       "DatetimeIndex(['2018-01-01', '2018-01-02', '2018-01-03', '2018-01-04',\n",
       "               '2018-01-05'],\n",
       "              dtype='datetime64[ns]', freq='D')"
      ]
     },
     "execution_count": 13,
     "metadata": {},
     "output_type": "execute_result"
    }
   ],
   "source": [
    "index = pd.date_range('1/1/2018', periods=5)\n",
    "index"
   ]
  },
  {
   "cell_type": "code",
   "execution_count": 14,
   "metadata": {},
   "outputs": [],
   "source": [
    "df.set_index(index, inplace=True)"
   ]
  },
  {
   "cell_type": "code",
   "execution_count": 15,
   "metadata": {},
   "outputs": [
    {
     "data": {
      "text/html": [
       "<div>\n",
       "<style scoped>\n",
       "    .dataframe tbody tr th:only-of-type {\n",
       "        vertical-align: middle;\n",
       "    }\n",
       "\n",
       "    .dataframe tbody tr th {\n",
       "        vertical-align: top;\n",
       "    }\n",
       "\n",
       "    .dataframe thead th {\n",
       "        text-align: right;\n",
       "    }\n",
       "</style>\n",
       "<table border=\"1\" class=\"dataframe\">\n",
       "  <thead>\n",
       "    <tr style=\"text-align: right;\">\n",
       "      <th></th>\n",
       "      <th>A</th>\n",
       "      <th>B</th>\n",
       "      <th>Z</th>\n",
       "      <th>D</th>\n",
       "      <th>E</th>\n",
       "      <th>F</th>\n",
       "      <th>G</th>\n",
       "      <th>H</th>\n",
       "      <th>I</th>\n",
       "      <th>J</th>\n",
       "    </tr>\n",
       "  </thead>\n",
       "  <tbody>\n",
       "    <tr>\n",
       "      <th>2018-01-01</th>\n",
       "      <td>0.379826</td>\n",
       "      <td>-0.352925</td>\n",
       "      <td>-0.558227</td>\n",
       "      <td>1.402688</td>\n",
       "      <td>-1.365617</td>\n",
       "      <td>-0.988261</td>\n",
       "      <td>0.495908</td>\n",
       "      <td>0.364106</td>\n",
       "      <td>1.006377</td>\n",
       "      <td>0.426253</td>\n",
       "    </tr>\n",
       "    <tr>\n",
       "      <th>2018-01-02</th>\n",
       "      <td>0.209549</td>\n",
       "      <td>0.344253</td>\n",
       "      <td>0.540214</td>\n",
       "      <td>-1.145616</td>\n",
       "      <td>0.155955</td>\n",
       "      <td>-2.200171</td>\n",
       "      <td>-0.035889</td>\n",
       "      <td>-1.169326</td>\n",
       "      <td>-1.354251</td>\n",
       "      <td>-0.466455</td>\n",
       "    </tr>\n",
       "    <tr>\n",
       "      <th>2018-01-03</th>\n",
       "      <td>0.218345</td>\n",
       "      <td>0.576290</td>\n",
       "      <td>0.225941</td>\n",
       "      <td>-0.010644</td>\n",
       "      <td>-0.113531</td>\n",
       "      <td>-0.458938</td>\n",
       "      <td>-0.066955</td>\n",
       "      <td>0.340238</td>\n",
       "      <td>-0.729022</td>\n",
       "      <td>0.367117</td>\n",
       "    </tr>\n",
       "  </tbody>\n",
       "</table>\n",
       "</div>"
      ],
      "text/plain": [
       "                   A         B         Z         D         E         F  \\\n",
       "2018-01-01  0.379826 -0.352925 -0.558227  1.402688 -1.365617 -0.988261   \n",
       "2018-01-02  0.209549  0.344253  0.540214 -1.145616  0.155955 -2.200171   \n",
       "2018-01-03  0.218345  0.576290  0.225941 -0.010644 -0.113531 -0.458938   \n",
       "\n",
       "                   G         H         I         J  \n",
       "2018-01-01  0.495908  0.364106  1.006377  0.426253  \n",
       "2018-01-02 -0.035889 -1.169326 -1.354251 -0.466455  \n",
       "2018-01-03 -0.066955  0.340238 -0.729022  0.367117  "
      ]
     },
     "execution_count": 15,
     "metadata": {},
     "output_type": "execute_result"
    }
   ],
   "source": [
    "df.head(3)\n",
    "#df.tail(3)"
   ]
  },
  {
   "cell_type": "code",
   "execution_count": null,
   "metadata": {},
   "outputs": [],
   "source": []
  },
  {
   "cell_type": "code",
   "execution_count": null,
   "metadata": {},
   "outputs": [],
   "source": [
    "# accessing data in rows"
   ]
  },
  {
   "cell_type": "code",
   "execution_count": 19,
   "metadata": {},
   "outputs": [
    {
     "data": {
      "text/plain": [
       "A    0.209549\n",
       "B    0.344253\n",
       "Z    0.540214\n",
       "D   -1.145616\n",
       "E    0.155955\n",
       "F   -2.200171\n",
       "G   -0.035889\n",
       "H   -1.169326\n",
       "I   -1.354251\n",
       "J   -0.466455\n",
       "Name: 2018-01-02 00:00:00, dtype: float64"
      ]
     },
     "execution_count": 19,
     "metadata": {},
     "output_type": "execute_result"
    }
   ],
   "source": [
    "# loc vs iloc\n",
    "df.loc['2018-01-02']"
   ]
  },
  {
   "cell_type": "code",
   "execution_count": 21,
   "metadata": {},
   "outputs": [
    {
     "data": {
      "text/html": [
       "<div>\n",
       "<style scoped>\n",
       "    .dataframe tbody tr th:only-of-type {\n",
       "        vertical-align: middle;\n",
       "    }\n",
       "\n",
       "    .dataframe tbody tr th {\n",
       "        vertical-align: top;\n",
       "    }\n",
       "\n",
       "    .dataframe thead th {\n",
       "        text-align: right;\n",
       "    }\n",
       "</style>\n",
       "<table border=\"1\" class=\"dataframe\">\n",
       "  <thead>\n",
       "    <tr style=\"text-align: right;\">\n",
       "      <th></th>\n",
       "      <th>A</th>\n",
       "      <th>B</th>\n",
       "      <th>Z</th>\n",
       "      <th>D</th>\n",
       "      <th>E</th>\n",
       "      <th>F</th>\n",
       "      <th>G</th>\n",
       "      <th>H</th>\n",
       "      <th>I</th>\n",
       "      <th>J</th>\n",
       "    </tr>\n",
       "  </thead>\n",
       "  <tbody>\n",
       "    <tr>\n",
       "      <th>2018-01-02</th>\n",
       "      <td>0.209549</td>\n",
       "      <td>0.344253</td>\n",
       "      <td>0.540214</td>\n",
       "      <td>-1.145616</td>\n",
       "      <td>0.155955</td>\n",
       "      <td>-2.200171</td>\n",
       "      <td>-0.035889</td>\n",
       "      <td>-1.169326</td>\n",
       "      <td>-1.354251</td>\n",
       "      <td>-0.466455</td>\n",
       "    </tr>\n",
       "    <tr>\n",
       "      <th>2018-01-04</th>\n",
       "      <td>0.576144</td>\n",
       "      <td>-0.043261</td>\n",
       "      <td>1.127869</td>\n",
       "      <td>-1.388594</td>\n",
       "      <td>1.142235</td>\n",
       "      <td>-0.232237</td>\n",
       "      <td>2.162515</td>\n",
       "      <td>0.311376</td>\n",
       "      <td>-0.226982</td>\n",
       "      <td>-1.991472</td>\n",
       "    </tr>\n",
       "  </tbody>\n",
       "</table>\n",
       "</div>"
      ],
      "text/plain": [
       "                   A         B         Z         D         E         F  \\\n",
       "2018-01-02  0.209549  0.344253  0.540214 -1.145616  0.155955 -2.200171   \n",
       "2018-01-04  0.576144 -0.043261  1.127869 -1.388594  1.142235 -0.232237   \n",
       "\n",
       "                   G         H         I         J  \n",
       "2018-01-02 -0.035889 -1.169326 -1.354251 -0.466455  \n",
       "2018-01-04  2.162515  0.311376 -0.226982 -1.991472  "
      ]
     },
     "execution_count": 21,
     "metadata": {},
     "output_type": "execute_result"
    }
   ],
   "source": [
    "df.iloc[[1,3]]"
   ]
  },
  {
   "cell_type": "code",
   "execution_count": null,
   "metadata": {},
   "outputs": [],
   "source": []
  },
  {
   "cell_type": "code",
   "execution_count": null,
   "metadata": {},
   "outputs": [],
   "source": []
  },
  {
   "cell_type": "code",
   "execution_count": null,
   "metadata": {},
   "outputs": [],
   "source": []
  },
  {
   "cell_type": "code",
   "execution_count": null,
   "metadata": {},
   "outputs": [],
   "source": []
  },
  {
   "cell_type": "code",
   "execution_count": null,
   "metadata": {},
   "outputs": [],
   "source": []
  },
  {
   "cell_type": "code",
   "execution_count": null,
   "metadata": {},
   "outputs": [],
   "source": []
  },
  {
   "cell_type": "code",
   "execution_count": null,
   "metadata": {},
   "outputs": [],
   "source": []
  },
  {
   "cell_type": "code",
   "execution_count": null,
   "metadata": {},
   "outputs": [],
   "source": []
  }
 ],
 "metadata": {
  "kernelspec": {
   "display_name": "Python 3 (ipykernel)",
   "language": "python",
   "name": "python3"
  },
  "language_info": {
   "codemirror_mode": {
    "name": "ipython",
    "version": 3
   },
   "file_extension": ".py",
   "mimetype": "text/x-python",
   "name": "python",
   "nbconvert_exporter": "python",
   "pygments_lexer": "ipython3",
   "version": "3.9.7"
  }
 },
 "nbformat": 4,
 "nbformat_minor": 2
}
